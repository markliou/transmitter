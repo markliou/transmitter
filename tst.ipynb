{
 "cells": [
  {
   "cell_type": "code",
   "execution_count": 1,
   "metadata": {},
   "outputs": [
    {
     "name": "stderr",
     "output_type": "stream",
     "text": [
      "2024-08-01 15:19:44.406419: I tensorflow/core/util/port.cc:113] oneDNN custom operations are on. You may see slightly different numerical results due to floating-point round-off errors from different computation orders. To turn them off, set the environment variable `TF_ENABLE_ONEDNN_OPTS=0`.\n",
      "2024-08-01 15:19:45.192100: I tensorflow/core/platform/cpu_feature_guard.cc:210] This TensorFlow binary is optimized to use available CPU instructions in performance-critical operations.\n",
      "To enable the following instructions: AVX2 AVX_VNNI FMA, in other operations, rebuild TensorFlow with the appropriate compiler flags.\n",
      "/usr/local/lib/python3.11/dist-packages/tqdm/auto.py:21: TqdmWarning: IProgress not found. Please update jupyter and ipywidgets. See https://ipywidgets.readthedocs.io/en/stable/user_install.html\n",
      "  from .autonotebook import tqdm as notebook_tqdm\n"
     ]
    }
   ],
   "source": [
    "import tensorflow as tf \n",
    "import keras as k\n",
    "import tensorflow_datasets as tfds"
   ]
  },
  {
   "cell_type": "code",
   "execution_count": 2,
   "metadata": {},
   "outputs": [
    {
     "name": "stderr",
     "output_type": "stream",
     "text": [
      "2024-08-01 15:19:55.499657: I external/local_xla/xla/stream_executor/cuda/cuda_executor.cc:984] could not open file to read NUMA node: /sys/bus/pci/devices/0000:01:00.0/numa_node\n",
      "Your kernel may have been built without NUMA support.\n",
      "2024-08-01 15:19:55.617484: I external/local_xla/xla/stream_executor/cuda/cuda_executor.cc:984] could not open file to read NUMA node: /sys/bus/pci/devices/0000:01:00.0/numa_node\n",
      "Your kernel may have been built without NUMA support.\n",
      "2024-08-01 15:19:55.617569: I external/local_xla/xla/stream_executor/cuda/cuda_executor.cc:984] could not open file to read NUMA node: /sys/bus/pci/devices/0000:01:00.0/numa_node\n",
      "Your kernel may have been built without NUMA support.\n",
      "2024-08-01 15:19:55.625661: I external/local_xla/xla/stream_executor/cuda/cuda_executor.cc:984] could not open file to read NUMA node: /sys/bus/pci/devices/0000:01:00.0/numa_node\n",
      "Your kernel may have been built without NUMA support.\n",
      "2024-08-01 15:19:55.625743: I external/local_xla/xla/stream_executor/cuda/cuda_executor.cc:984] could not open file to read NUMA node: /sys/bus/pci/devices/0000:01:00.0/numa_node\n",
      "Your kernel may have been built without NUMA support.\n",
      "2024-08-01 15:19:55.625769: I external/local_xla/xla/stream_executor/cuda/cuda_executor.cc:984] could not open file to read NUMA node: /sys/bus/pci/devices/0000:01:00.0/numa_node\n",
      "Your kernel may have been built without NUMA support.\n",
      "2024-08-01 15:19:56.149987: I external/local_xla/xla/stream_executor/cuda/cuda_executor.cc:984] could not open file to read NUMA node: /sys/bus/pci/devices/0000:01:00.0/numa_node\n",
      "Your kernel may have been built without NUMA support.\n",
      "2024-08-01 15:19:56.150071: I external/local_xla/xla/stream_executor/cuda/cuda_executor.cc:984] could not open file to read NUMA node: /sys/bus/pci/devices/0000:01:00.0/numa_node\n",
      "Your kernel may have been built without NUMA support.\n",
      "2024-08-01 15:19:56.150085: I tensorflow/core/common_runtime/gpu/gpu_device.cc:2019] Could not identify NUMA node of platform GPU id 0, defaulting to 0.  Your kernel may not have been built with NUMA support.\n",
      "2024-08-01 15:19:56.150104: W tensorflow/core/common_runtime/gpu/gpu_bfc_allocator.cc:47] Overriding orig_value setting because the TF_FORCE_GPU_ALLOW_GROWTH environment variable is set. Original config value was 0.\n",
      "2024-08-01 15:19:56.150171: I external/local_xla/xla/stream_executor/cuda/cuda_executor.cc:984] could not open file to read NUMA node: /sys/bus/pci/devices/0000:01:00.0/numa_node\n",
      "Your kernel may have been built without NUMA support.\n",
      "2024-08-01 15:19:56.150857: I tensorflow/core/common_runtime/gpu/gpu_device.cc:1928] Created device /job:localhost/replica:0/task:0/device:GPU:0 with 1753 MB memory:  -> device: 0, name: NVIDIA GeForce RTX 3050 Ti Laptop GPU, pci bus id: 0000:01:00.0, compute capability: 8.6\n"
     ]
    }
   ],
   "source": [
    "img = tfds.load(\"beans\", split='train', shuffle_files=True, batch_size=-1)['image'].numpy()"
   ]
  },
  {
   "cell_type": "code",
   "execution_count": 4,
   "metadata": {},
   "outputs": [
    {
     "data": {
      "text/plain": [
       "TensorShape([1034, 128, 128, 3])"
      ]
     },
     "execution_count": 4,
     "metadata": {},
     "output_type": "execute_result"
    }
   ],
   "source": [
    "reImg = tf.image.resize(img, [128,128])\n",
    "reImg.shape"
   ]
  },
  {
   "cell_type": "code",
   "execution_count": 5,
   "metadata": {},
   "outputs": [],
   "source": [
    "dataset = tf.data.Dataset.from_tensor_slices(reImg)"
   ]
  },
  {
   "cell_type": "code",
   "execution_count": 7,
   "metadata": {},
   "outputs": [
    {
     "data": {
      "text/plain": [
       "<tf.Tensor: shape=(3, 128, 128, 3), dtype=float32, numpy=\n",
       "array([[[[ 82.78589   ,  59.100586  ,  42.78589   ],\n",
       "         [ 94.220215  ,  49.543457  ,  53.20215   ],\n",
       "         [129.06372   ,  80.07471   ,  74.21704   ],\n",
       "         ...,\n",
       "         [162.95776   , 129.31079   , 126.078125  ],\n",
       "         [117.44165   ,  69.10034   ,  79.63818   ],\n",
       "         [151.38623   , 109.881836  , 111.38623   ]],\n",
       "\n",
       "        [[131.29932   ,  77.921875  ,  87.55591   ],\n",
       "         [123.71777   ,  63.538574  ,  80.359375  ],\n",
       "         [125.46533   ,  69.6355    ,  77.954834  ],\n",
       "         ...,\n",
       "         [148.69287   , 105.78662   , 107.083496  ],\n",
       "         [150.47949   , 106.99097   , 113.04199   ],\n",
       "         [162.19238   , 119.89307   , 127.636475  ]],\n",
       "\n",
       "        [[136.198     ,  81.99487   ,  87.46362   ],\n",
       "         [125.33301   ,  70.12988   ,  78.33301   ],\n",
       "         [121.0332    ,  67.76758   ,  78.56445   ],\n",
       "         ...,\n",
       "         [155.86792   , 101.1875    , 102.87598   ],\n",
       "         [162.68726   , 113.8938    , 111.626465  ],\n",
       "         [179.53296   , 134.24243   , 140.48145   ]],\n",
       "\n",
       "        ...,\n",
       "\n",
       "        [[245.59375   , 184.39062   , 206.21875   ],\n",
       "         [246.21362   , 182.85596   , 202.65112   ],\n",
       "         [235.45264   , 162.84277   , 181.84277   ],\n",
       "         ...,\n",
       "         [113.217285  ,  74.61548   ,  87.686035  ],\n",
       "         [133.83691   ,  86.11987   ,  97.04004   ],\n",
       "         [132.32983   ,  81.97046   ,  86.25171   ]],\n",
       "\n",
       "        [[249.81421   , 186.45483   , 207.00171   ],\n",
       "         [230.96997   , 158.68872   , 177.32935   ],\n",
       "         [253.4165    , 193.1665    , 210.69604   ],\n",
       "         ...,\n",
       "         [ 19.751953  ,   0.26391602,   6.765869  ],\n",
       "         [ 62.6062    ,  37.88745   ,  37.684326  ],\n",
       "         [145.98926   , 100.59619   , 105.792725  ]],\n",
       "\n",
       "        [[232.59863   , 156.33301   , 175.14551   ],\n",
       "         [252.39478   , 182.02881   , 203.10693   ],\n",
       "         [252.87793   , 193.08105   , 215.34668   ],\n",
       "         ...,\n",
       "         [ 69.88306   ,  25.606445  ,  40.539307  ],\n",
       "         [ 19.11914   ,   0.        ,   1.435791  ],\n",
       "         [105.12036   ,  68.61597   ,  75.91504   ]]],\n",
       "\n",
       "\n",
       "       [[[ 68.84595   ,  90.1875    ,  16.897217  ],\n",
       "         [ 68.32568   ,  87.454834  ,  15.745117  ],\n",
       "         [ 60.479736  ,  83.01099   ,   9.454834  ],\n",
       "         ...,\n",
       "         [208.46924   , 161.69263   , 114.52075   ],\n",
       "         [210.9851    , 162.06323   , 110.70386   ],\n",
       "         [211.09888   , 161.50952   , 111.41577   ]],\n",
       "\n",
       "        [[ 73.72778   ,  89.042725  ,  18.761475  ],\n",
       "         [ 66.073     ,  81.073     ,  12.791748  ],\n",
       "         [ 58.65796   ,  80.65967   ,   9.642334  ],\n",
       "         ...,\n",
       "         [203.25      , 155.45825   , 101.72217   ],\n",
       "         [189.17822   , 138.89697   ,  82.25635   ],\n",
       "         [188.46094   , 138.46094   ,  88.041504  ]],\n",
       "\n",
       "        [[ 77.17529   ,  88.90967   ,  22.378418  ],\n",
       "         [ 73.642334  ,  85.28125   ,  21.564209  ],\n",
       "         [ 64.373535  ,  80.373535  ,  17.373535  ],\n",
       "         ...,\n",
       "         [183.94238   , 134.52759   ,  81.86377   ],\n",
       "         [178.57104   , 129.36792   ,  76.633545  ],\n",
       "         [178.69019   , 127.62305   ,  75.62134   ]],\n",
       "\n",
       "        ...,\n",
       "\n",
       "        [[ 79.947754  ,  78.70703   ,  24.02417   ],\n",
       "         [ 78.96387   ,  75.67749   ,  24.2417    ],\n",
       "         [ 83.72974   ,  77.72974   ,  27.198486  ],\n",
       "         ...,\n",
       "         [ 99.65503   , 136.11572   ,  34.59253   ],\n",
       "         [ 67.89258   , 104.89258   ,   1.1337891 ],\n",
       "         [ 77.517334  , 117.25171   ,   6.845459  ]],\n",
       "\n",
       "        [[ 81.8313    ,  85.04346   ,  24.250732  ],\n",
       "         [ 89.613525  ,  91.5354    ,  26.590576  ],\n",
       "         [ 91.96362   ,  93.69629   ,  18.685791  ],\n",
       "         ...,\n",
       "         [ 80.76221   , 117.930664  ,   6.272705  ],\n",
       "         [104.861084  , 142.09131   ,  35.400635  ],\n",
       "         [104.778564  , 142.13794   ,  28.497314  ]],\n",
       "\n",
       "        [[122.04199   , 146.02417   ,  28.99292   ],\n",
       "         [ 87.744385  , 108.81348   ,   7.47876   ],\n",
       "         [126.048096  , 139.97632   ,  17.418457  ],\n",
       "         ...,\n",
       "         [132.64697   , 166.9126    ,  54.256348  ],\n",
       "         [ 85.486084  , 121.77637   ,  11.914551  ],\n",
       "         [116.69385   , 150.69385   ,  38.240723  ]]],\n",
       "\n",
       "\n",
       "       [[[ 88.94873   , 104.2478    ,  80.350586  ],\n",
       "         [ 99.90625   , 119.25659   ,  96.20557   ],\n",
       "         [ 92.954346  , 116.50122   ,  91.30444   ],\n",
       "         ...,\n",
       "         [138.30908   , 175.87329   , 153.9248    ],\n",
       "         [137.00171   , 177.41943   , 154.48853   ],\n",
       "         [125.776855  , 162.77686   , 145.77686   ]],\n",
       "\n",
       "        [[ 59.30591   ,  70.55347   ,  51.63159   ],\n",
       "         [ 78.        ,  92.53955   ,  72.230225  ],\n",
       "         [ 93.73633   , 114.5332    ,  88.73633   ],\n",
       "         ...,\n",
       "         [141.93384   , 179.93384   , 158.93384   ],\n",
       "         [126.238525  , 167.1604    , 146.23853   ],\n",
       "         [133.27466   , 170.27466   , 152.27466   ]],\n",
       "\n",
       "        [[ 53.68286   ,  58.885986  ,  47.15161   ],\n",
       "         [ 47.901123  ,  55.572998  ,  39.104248  ],\n",
       "         [ 63.249023  ,  78.17847   ,  55.178467  ],\n",
       "         ...,\n",
       "         [146.53467   , 179.07397   , 160.12793   ],\n",
       "         [139.75513   , 173.85059   , 156.56421   ],\n",
       "         [143.00342   , 180.20654   , 159.47217   ]],\n",
       "\n",
       "        ...,\n",
       "\n",
       "        [[127.91797   , 109.91797   , 108.72119   ],\n",
       "         [122.27954   , 104.27954   , 102.27954   ],\n",
       "         [149.53125   , 129.92139   , 130.33618   ],\n",
       "         ...,\n",
       "         [ 62.030273  ,  66.97583   ,  38.61548   ],\n",
       "         [ 51.25537   ,  60.208496  ,  28.880371  ],\n",
       "         [ 49.763916  ,  63.299805  ,  27.654541  ]],\n",
       "\n",
       "        [[114.511475  ,  96.511475  ,  96.511475  ],\n",
       "         [156.93091   , 138.93091   , 138.93091   ],\n",
       "         [177.67139   , 157.14014   , 158.57593   ],\n",
       "         ...,\n",
       "         [ 51.65454   ,  65.71362   ,  23.432373  ],\n",
       "         [ 54.253174  ,  68.690674  ,  25.819824  ],\n",
       "         [ 56.647217  ,  76.73193   ,  34.303467  ]],\n",
       "\n",
       "        [[143.37524   , 125.62305   , 123.62305   ],\n",
       "         [161.60205   , 140.6958    , 140.2854    ],\n",
       "         [181.50513   , 160.97388   , 162.50513   ],\n",
       "         ...,\n",
       "         [ 85.22974   , 101.69849   ,  57.96411   ],\n",
       "         [ 82.46875   , 102.546875  ,  56.897217  ],\n",
       "         [ 92.6228    , 107.03345   ,  70.828125  ]]]], dtype=float32)>"
      ]
     },
     "execution_count": 7,
     "metadata": {},
     "output_type": "execute_result"
    }
   ],
   "source": [
    "dataset = dataset.batch(3, drop_remainder=True).repeat().shuffle(3, reshuffle_each_iteration=True)\n",
    "ds_iter = iter(dataset)\n",
    "next(ds_iter)"
   ]
  }
 ],
 "metadata": {
  "kernelspec": {
   "display_name": "Python 3",
   "language": "python",
   "name": "python3"
  },
  "language_info": {
   "codemirror_mode": {
    "name": "ipython",
    "version": 3
   },
   "file_extension": ".py",
   "mimetype": "text/x-python",
   "name": "python",
   "nbconvert_exporter": "python",
   "pygments_lexer": "ipython3",
   "version": "3.11.0rc1"
  }
 },
 "nbformat": 4,
 "nbformat_minor": 2
}
